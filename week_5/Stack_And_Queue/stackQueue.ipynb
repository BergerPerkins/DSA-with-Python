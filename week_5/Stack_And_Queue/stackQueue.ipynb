{
 "cells": [
  {
   "cell_type": "markdown",
   "metadata": {},
   "source": [
    "### Stack: LIFO Architecture (Last In First Out)"
   ]
  },
  {
   "cell_type": "code",
   "execution_count": 1,
   "metadata": {},
   "outputs": [],
   "source": [
    "## stack implementation using dynamic array/list in python is slower operation\n",
    "stack = []\n",
    "stack.append('https://leetcode.com/')\n",
    "stack.append('https://leetcode.com/problemset/')\n",
    "stack.append('https://leetcode.com/problems/two-sum/description/')"
   ]
  },
  {
   "cell_type": "code",
   "execution_count": 2,
   "metadata": {},
   "outputs": [
    {
     "data": {
      "text/plain": [
       "'https://leetcode.com/problems/two-sum/description/'"
      ]
     },
     "execution_count": 2,
     "metadata": {},
     "output_type": "execute_result"
    }
   ],
   "source": [
    "stack.pop()"
   ]
  },
  {
   "cell_type": "code",
   "execution_count": 3,
   "metadata": {},
   "outputs": [
    {
     "data": {
      "text/plain": [
       "['https://leetcode.com/', 'https://leetcode.com/problemset/']"
      ]
     },
     "execution_count": 3,
     "metadata": {},
     "output_type": "execute_result"
    }
   ],
   "source": [
    "stack"
   ]
  },
  {
   "cell_type": "code",
   "execution_count": 4,
   "metadata": {},
   "outputs": [
    {
     "data": {
      "text/plain": [
       "'https://leetcode.com/problemset/'"
      ]
     },
     "execution_count": 4,
     "metadata": {},
     "output_type": "execute_result"
    }
   ],
   "source": [
    "stack.pop()"
   ]
  },
  {
   "cell_type": "code",
   "execution_count": 6,
   "metadata": {},
   "outputs": [
    {
     "data": {
      "text/plain": [
       "['https://leetcode.com/']"
      ]
     },
     "execution_count": 6,
     "metadata": {},
     "output_type": "execute_result"
    }
   ],
   "source": [
    "stack"
   ]
  },
  {
   "cell_type": "markdown",
   "metadata": {},
   "source": [
    "### Double Ended Queue(deque) - Faster than the above approach"
   ]
  },
  {
   "cell_type": "code",
   "execution_count": 7,
   "metadata": {},
   "outputs": [],
   "source": [
    "from collections import deque\n",
    "stack=deque()"
   ]
  },
  {
   "cell_type": "code",
   "execution_count": 8,
   "metadata": {},
   "outputs": [
    {
     "data": {
      "text/plain": [
       "['__add__',\n",
       " '__class__',\n",
       " '__class_getitem__',\n",
       " '__contains__',\n",
       " '__copy__',\n",
       " '__delattr__',\n",
       " '__delitem__',\n",
       " '__dir__',\n",
       " '__doc__',\n",
       " '__eq__',\n",
       " '__format__',\n",
       " '__ge__',\n",
       " '__getattribute__',\n",
       " '__getitem__',\n",
       " '__getstate__',\n",
       " '__gt__',\n",
       " '__hash__',\n",
       " '__iadd__',\n",
       " '__imul__',\n",
       " '__init__',\n",
       " '__init_subclass__',\n",
       " '__iter__',\n",
       " '__le__',\n",
       " '__len__',\n",
       " '__lt__',\n",
       " '__mul__',\n",
       " '__ne__',\n",
       " '__new__',\n",
       " '__reduce__',\n",
       " '__reduce_ex__',\n",
       " '__repr__',\n",
       " '__reversed__',\n",
       " '__rmul__',\n",
       " '__setattr__',\n",
       " '__setitem__',\n",
       " '__sizeof__',\n",
       " '__str__',\n",
       " '__subclasshook__',\n",
       " 'append',\n",
       " 'appendleft',\n",
       " 'clear',\n",
       " 'copy',\n",
       " 'count',\n",
       " 'extend',\n",
       " 'extendleft',\n",
       " 'index',\n",
       " 'insert',\n",
       " 'maxlen',\n",
       " 'pop',\n",
       " 'popleft',\n",
       " 'remove',\n",
       " 'reverse',\n",
       " 'rotate']"
      ]
     },
     "execution_count": 8,
     "metadata": {},
     "output_type": "execute_result"
    }
   ],
   "source": [
    "dir(stack)"
   ]
  },
  {
   "cell_type": "code",
   "execution_count": 10,
   "metadata": {},
   "outputs": [],
   "source": [
    "stack.append('https://leetcode.com/')\n",
    "stack.append('https://leetcode.com/problemset/')\n",
    "stack.append('https://leetcode.com/problems/two-sum/description/')"
   ]
  },
  {
   "cell_type": "code",
   "execution_count": 11,
   "metadata": {},
   "outputs": [
    {
     "data": {
      "text/plain": [
       "deque(['https://leetcode.com/',\n",
       "       'https://leetcode.com/problemset/',\n",
       "       'https://leetcode.com/problems/two-sum/description/'])"
      ]
     },
     "execution_count": 11,
     "metadata": {},
     "output_type": "execute_result"
    }
   ],
   "source": [
    "stack"
   ]
  },
  {
   "cell_type": "code",
   "execution_count": 12,
   "metadata": {},
   "outputs": [
    {
     "data": {
      "text/plain": [
       "'https://leetcode.com/problems/two-sum/description/'"
      ]
     },
     "execution_count": 12,
     "metadata": {},
     "output_type": "execute_result"
    }
   ],
   "source": [
    "stack.pop()"
   ]
  },
  {
   "cell_type": "code",
   "execution_count": 13,
   "metadata": {},
   "outputs": [
    {
     "data": {
      "text/plain": [
       "deque(['https://leetcode.com/', 'https://leetcode.com/problemset/'])"
      ]
     },
     "execution_count": 13,
     "metadata": {},
     "output_type": "execute_result"
    }
   ],
   "source": [
    "stack"
   ]
  },
  {
   "cell_type": "code",
   "execution_count": 22,
   "metadata": {},
   "outputs": [],
   "source": [
    "class Stack:\n",
    "    # initialization of stack\n",
    "    def __init__(self):\n",
    "        self.container = deque()\n",
    "\n",
    "    # insert the new element inside the stack\n",
    "    def push(self, val):\n",
    "        self.container.append(val)\n",
    "    \n",
    "    # delete the element from the stack\n",
    "    def pop(self):\n",
    "        return self.container.pop()\n",
    "    \n",
    "    # display the top element in the stack\n",
    "    def peek(self):\n",
    "        return self.container[-1]\n",
    "    \n",
    "    # check wheather the stack is empty or not\n",
    "    def isEmpty(self):\n",
    "        return len(self.container) == 0\n",
    "    \n",
    "    # display the size of the stack\n",
    "    def size(self):\n",
    "        return len(self.container)\n",
    "    \n",
    "\n",
    "    # display the elements available inside the stack\n",
    "    def printEle(self):\n",
    "        for elements in self.container:\n",
    "            print(elements)\n",
    "    \n",
    "\n",
    "#Driver code\n",
    "st = Stack()\n",
    "\n",
    "#Function calling\n",
    "st.push(45)\n",
    "st.push(67)\n",
    "st.push(79)\n",
    "st.push(16)\n",
    "st.push(29)\n",
    "    "
   ]
  },
  {
   "cell_type": "code",
   "execution_count": 15,
   "metadata": {},
   "outputs": [
    {
     "data": {
      "text/plain": [
       "29"
      ]
     },
     "execution_count": 15,
     "metadata": {},
     "output_type": "execute_result"
    }
   ],
   "source": [
    "st.peek()"
   ]
  },
  {
   "cell_type": "code",
   "execution_count": 16,
   "metadata": {},
   "outputs": [
    {
     "data": {
      "text/plain": [
       "29"
      ]
     },
     "execution_count": 16,
     "metadata": {},
     "output_type": "execute_result"
    }
   ],
   "source": [
    "st.pop() # Remove the last element from the stack"
   ]
  },
  {
   "cell_type": "code",
   "execution_count": 18,
   "metadata": {},
   "outputs": [
    {
     "data": {
      "text/plain": [
       "16"
      ]
     },
     "execution_count": 18,
     "metadata": {},
     "output_type": "execute_result"
    }
   ],
   "source": [
    "st.peek()"
   ]
  },
  {
   "cell_type": "code",
   "execution_count": 19,
   "metadata": {},
   "outputs": [
    {
     "data": {
      "text/plain": [
       "4"
      ]
     },
     "execution_count": 19,
     "metadata": {},
     "output_type": "execute_result"
    }
   ],
   "source": [
    "st.size()"
   ]
  },
  {
   "cell_type": "code",
   "execution_count": 20,
   "metadata": {},
   "outputs": [
    {
     "data": {
      "text/plain": [
       "False"
      ]
     },
     "execution_count": 20,
     "metadata": {},
     "output_type": "execute_result"
    }
   ],
   "source": [
    "st.isEmpty()"
   ]
  },
  {
   "cell_type": "code",
   "execution_count": 21,
   "metadata": {},
   "outputs": [
    {
     "data": {
      "text/plain": [
       "<__main__.Stack at 0x1de39e03350>"
      ]
     },
     "execution_count": 21,
     "metadata": {},
     "output_type": "execute_result"
    }
   ],
   "source": [
    "st"
   ]
  },
  {
   "cell_type": "code",
   "execution_count": 23,
   "metadata": {},
   "outputs": [
    {
     "name": "stdout",
     "output_type": "stream",
     "text": [
      "45\n",
      "67\n",
      "79\n",
      "16\n",
      "29\n"
     ]
    }
   ],
   "source": [
    "st.printEle()"
   ]
  },
  {
   "cell_type": "markdown",
   "metadata": {},
   "source": [
    "### **Application: To check for the balanced parenthesis [Leetcode Reference](https://leetcode.com/problems/valid-parentheses/description/)**"
   ]
  },
  {
   "cell_type": "markdown",
   "metadata": {},
   "source": [
    "[{()}] - True"
   ]
  },
  {
   "cell_type": "code",
   "execution_count": 6,
   "metadata": {},
   "outputs": [
    {
     "name": "stdout",
     "output_type": "stream",
     "text": [
      "Given string is not a Balanced Parenthesis string\n"
     ]
    }
   ],
   "source": [
    "## function definition\n",
    "def balancedParenthesis(string):\n",
    "    ## for every open bracket as a key, Closing bracket acts as a value\n",
    "    bracket_mapping = { \"(\":\")\",  \"{\":\"}\",  \"[\":\"]\" }\n",
    "    open_bracket = set([\"(\",  \"[\",  \"{\"])\n",
    "    stack = []\n",
    "\n",
    "\n",
    "    for str in string:\n",
    "        if str in open_bracket:\n",
    "            ## insertion inside the stack\n",
    "            stack.append(str)\n",
    "            ## closing bracket and stack top open bracket - closing bracket [are they same]\n",
    "        elif stack and str == bracket_mapping[stack[-1]]:\n",
    "            stack.pop()\n",
    "        else:\n",
    "            return False\n",
    "        \n",
    "    return stack == []\n",
    "\n",
    "# Driver code\n",
    "string = \"[{()}][{]}\"\n",
    "if balancedParenthesis(string):\n",
    "    print(\"Given string is a Balanced Parenthesis string\")\n",
    "else:\n",
    "    print(\"Given string is not a Balanced Parenthesis string\")"
   ]
  },
  {
   "cell_type": "markdown",
   "metadata": {},
   "source": [
    "**Queue: FIFO Architecture(First In First Out)**"
   ]
  },
  {
   "cell_type": "code",
   "execution_count": 16,
   "metadata": {},
   "outputs": [],
   "source": [
    "from collections import deque\n",
    "class queue:\n",
    "    ## initialization of a quque\n",
    "    def __init__(self):\n",
    "        self.container = deque()\n",
    "\n",
    "    ## insertion of an element in a queue\n",
    "    def enqueue(self, val):\n",
    "        self.container.append(val)\n",
    "\n",
    "\n",
    "    ## deletion of element in a queue\n",
    "    def dequeue(self):\n",
    "        return self.container.popleft()\n",
    "\n",
    "    ## check weather the queue is empty or not\n",
    "    def isEmpty(self, val):\n",
    "        return len(self.container) == 0\n",
    "    \n",
    "\n",
    "que = queue()\n",
    "que.enqueue(34)\n",
    "que.enqueue(45)\n",
    "que.enqueue(56)\n",
    "que.enqueue(67)\n",
    "que.enqueue(78)\n",
    "que.enqueue(89)"
   ]
  },
  {
   "cell_type": "code",
   "execution_count": 17,
   "metadata": {},
   "outputs": [
    {
     "data": {
      "text/plain": [
       "34"
      ]
     },
     "execution_count": 17,
     "metadata": {},
     "output_type": "execute_result"
    }
   ],
   "source": [
    "que.dequeue()"
   ]
  },
  {
   "cell_type": "code",
   "execution_count": 18,
   "metadata": {},
   "outputs": [],
   "source": [
    "class Queue:\n",
    "  ## initialization of a Queue\n",
    "  def __init__(self):\n",
    "    self.container = deque()\n",
    "\n",
    "  ## insertion of an element in a Queue\n",
    "  def enqueue(self, val):\n",
    "    self.container.appendleft(val)\n",
    "\n",
    "  ## deletion of an element in a Queue\n",
    "  def dequeue(self):\n",
    "    return self.container.pop()\n",
    "\n",
    "  ## check whether the queue is empty or not\n",
    "  def isEmpty(self):\n",
    "    return len(self.container) == 0\n",
    "\n",
    "\n",
    "## Driver code\n",
    "que = Queue()\n",
    "que.enqueue(34)\n",
    "que.enqueue(45)\n",
    "que.enqueue(56)\n",
    "que.enqueue(67)\n",
    "que.enqueue(78)\n",
    "que.enqueue(89)"
   ]
  },
  {
   "cell_type": "code",
   "execution_count": 19,
   "metadata": {},
   "outputs": [
    {
     "data": {
      "text/plain": [
       "34"
      ]
     },
     "execution_count": 19,
     "metadata": {},
     "output_type": "execute_result"
    }
   ],
   "source": [
    "que.dequeue()"
   ]
  },
  {
   "cell_type": "markdown",
   "metadata": {},
   "source": [
    "Assignment Problems:\n",
    "\n",
    "1. [Implement Stack using Queues](https://leetcode.com/problems/implement-stack-using-queues/description/)\n",
    "\n",
    "2.  [Implement Queue using Stacks](https://leetcode.com/problems/implement-queue-using-stacks/description/)"
   ]
  },
  {
   "cell_type": "code",
   "execution_count": null,
   "metadata": {},
   "outputs": [],
   "source": []
  }
 ],
 "metadata": {
  "language_info": {
   "name": "python"
  }
 },
 "nbformat": 4,
 "nbformat_minor": 2
}
