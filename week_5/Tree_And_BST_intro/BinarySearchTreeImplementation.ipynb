{
 "cells": [
  {
   "cell_type": "code",
   "execution_count": 2,
   "metadata": {},
   "outputs": [
    {
     "name": "stdout",
     "output_type": "stream",
     "text": [
      "70 80 85 100 110 120 False\n"
     ]
    }
   ],
   "source": [
    "class BinarySearchTreeNode:\n",
    "    def __init__(self, data):\n",
    "        self.left = None\n",
    "        self.right = None\n",
    "        self.val = data\n",
    "\n",
    "## function definition of insertion of a node in a given BST\n",
    "def insertBST(root, value):\n",
    "    if root is None:\n",
    "        return BinarySearchTreeNode(value)\n",
    "    else:\n",
    "        # not allow any duplicates\n",
    "        if root.val == value:\n",
    "            return root\n",
    "        elif root.val < value:\n",
    "            root.right = insertBST(root.right, value)\n",
    "        else:\n",
    "            root.left = insertBST(root.left, value)\n",
    "        return root\n",
    "    \n",
    "## function definition of searching of a element in a given BST\n",
    "## best/avg case complexity : O(log n)\n",
    "## worst case complexity (skewed binary search tree): O(n)\n",
    "def searchBST(root, target):\n",
    "    if root is None:\n",
    "        return False\n",
    "    elif root.val < target:\n",
    "        return searchBST(root.right, target)\n",
    "    elif root.val > target:\n",
    "        return searchBST(root.left, target)\n",
    "    else:\n",
    "        return True\n",
    "\n",
    "\n",
    "## function of inorder traversal(root)\n",
    "def inOrderTraversal(root):\n",
    "    if root:\n",
    "        inOrderTraversal(root.left)\n",
    "        print(root.val, end= \" \")\n",
    "        inOrderTraversal(root.right)\n",
    "\n",
    "## Driver code\n",
    "root = BinarySearchTreeNode(100)\n",
    "root = insertBST(root, 80)\n",
    "root = insertBST(root, 120)\n",
    "root = insertBST(root, 70)\n",
    "root = insertBST(root, 85)\n",
    "root = insertBST(root, 110)\n",
    "## function calling to display the result\n",
    "inOrderTraversal(root)\n",
    "\n",
    "print(searchBST(root, 113))"
   ]
  },
  {
   "cell_type": "code",
   "execution_count": null,
   "metadata": {},
   "outputs": [],
   "source": []
  }
 ],
 "metadata": {
  "language_info": {
   "name": "python"
  }
 },
 "nbformat": 4,
 "nbformat_minor": 2
}
