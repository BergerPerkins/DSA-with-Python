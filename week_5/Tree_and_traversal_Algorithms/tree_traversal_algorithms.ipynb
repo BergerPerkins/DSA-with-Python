{
 "cells": [
  {
   "cell_type": "code",
   "execution_count": 6,
   "metadata": {},
   "outputs": [
    {
     "name": "stdout",
     "output_type": "stream",
     "text": [
      "Inorder Traversal of a given tree is:\n",
      "4 2 5 1 3 "
     ]
    }
   ],
   "source": [
    "class ParentClass:\n",
    "    def __init__(self, data):\n",
    "        self.left = None\n",
    "        self.right = None\n",
    "        self.val = data\n",
    "\n",
    "## function definition of inorder traversal\n",
    "def inOrderTraversal(root):\n",
    "    if root:\n",
    "        inOrderTraversal(root.left)\n",
    "        print(root.val, end= \" \")\n",
    "        inOrderTraversal(root.right)\n",
    "\n",
    "## function definition of preorder traversal\n",
    "def preOrderTraversal(root):\n",
    "    if root:\n",
    "        print(root.val, end= \" \")\n",
    "        preOrderTraversal(root.left)\n",
    "        preOrderTraversal(root.right)\n",
    "\n",
    "## function definition of postorder traversal\n",
    "def postOrderTraversal(root):\n",
    "    if root:\n",
    "        postOrderTraversal(root.left)\n",
    "        postOrderTraversal(root.right)\n",
    "        print(root.val, end= \" \")\n",
    "\n",
    "\n",
    "## Driver code\n",
    "root = ParentClass(1)\n",
    "root.left = ParentClass(2)\n",
    "root.right = ParentClass(3)\n",
    "root.left.left = ParentClass(4)\n",
    "root.left.right = ParentClass(5)\n",
    "\n",
    "print(\"Inorder Traversal of a given tree is:\")\n",
    "inOrderTraversal(root)"
   ]
  },
  {
   "cell_type": "code",
   "execution_count": 7,
   "metadata": {},
   "outputs": [
    {
     "name": "stdout",
     "output_type": "stream",
     "text": [
      "Pre order Traversal of a given tree is:\n",
      "1 2 4 5 3 "
     ]
    }
   ],
   "source": [
    "print(\"Pre order Traversal of a given tree is:\")\n",
    "preOrderTraversal(root)"
   ]
  },
  {
   "cell_type": "code",
   "execution_count": 8,
   "metadata": {},
   "outputs": [
    {
     "name": "stdout",
     "output_type": "stream",
     "text": [
      "Post order Traversal of a given tree is:\n",
      "4 5 2 3 1 "
     ]
    }
   ],
   "source": [
    "\n",
    "print(\"Post order Traversal of a given tree is:\")\n",
    "postOrderTraversal(root)"
   ]
  },
  {
   "cell_type": "code",
   "execution_count": null,
   "metadata": {},
   "outputs": [],
   "source": []
  }
 ],
 "metadata": {
  "language_info": {
   "name": "python"
  }
 },
 "nbformat": 4,
 "nbformat_minor": 2
}
